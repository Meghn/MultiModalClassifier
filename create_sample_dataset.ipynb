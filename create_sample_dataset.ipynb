{
 "cells": [
  {
   "cell_type": "code",
   "execution_count": 1,
   "metadata": {},
   "outputs": [],
   "source": [
    "import os\n",
    "import shutil\n",
    "import random\n"
   ]
  },
  {
   "cell_type": "code",
   "execution_count": 2,
   "metadata": {},
   "outputs": [],
   "source": [
    "dataset_dir = os.path.expanduser('~/Documents/data/tiny-imagenet-200')\n",
    "output_dir = os.path.expanduser('~/Documents/Github/MultiModalClassifier/data/tiny-imagenet-subset-generated')"
   ]
  },
  {
   "cell_type": "code",
   "execution_count": 3,
   "metadata": {},
   "outputs": [],
   "source": [
    "def subset_tiny_imagenet(dataset_dir, output_dir, total_num_images=500, num_classes=5):\n",
    "    all_classes = os.listdir(os.path.join(dataset_dir, 'train'))\n",
    "    selected_classes = random.sample(all_classes, num_classes)\n",
    "    os.makedirs(output_dir, exist_ok=True)\n",
    "    images_per_class = int(total_num_images/num_classes)\n",
    "    for class_id in selected_classes:\n",
    "        print(class_id)\n",
    "        class_dir = os.path.join(dataset_dir, 'train', class_id, 'images')\n",
    "        output_class_dir = os.path.join(output_dir, 'train', class_id)\n",
    "        os.makedirs(output_class_dir, exist_ok=True)\n",
    "        \n",
    "        images = os.listdir(class_dir)\n",
    "        random.shuffle(images)\n",
    "        selected_images = images[:images_per_class]  \n",
    "        \n",
    "        for image in selected_images:\n",
    "            src_path = os.path.join(class_dir, image)\n",
    "            dst_path = os.path.join(output_class_dir, image)\n",
    "            shutil.copy(src_path, dst_path)\n",
    "\n",
    "    print(f\"Subset created with {total_num_images} images from {num_classes} classes at {output_dir}\")\n"
   ]
  },
  {
   "cell_type": "code",
   "execution_count": 4,
   "metadata": {},
   "outputs": [
    {
     "name": "stdout",
     "output_type": "stream",
     "text": [
      "n04070727\n",
      "n02808440\n",
      "n09256479\n",
      "n03796401\n",
      "n01742172\n",
      "n02423022\n",
      "n03662601\n",
      "n02281406\n",
      "n07875152\n",
      "n02791270\n",
      "Subset created with 1000 images from 10 classes at /Users/meghnapusala/Documents/Github/MultiModalClassifier/data/tiny-imagenet-subset-generated\n"
     ]
    }
   ],
   "source": [
    "subset_tiny_imagenet(dataset_dir, output_dir, total_num_images=1000, num_classes=10)"
   ]
  }
 ],
 "metadata": {
  "kernelspec": {
   "display_name": "Python 3",
   "language": "python",
   "name": "python3"
  },
  "language_info": {
   "codemirror_mode": {
    "name": "ipython",
    "version": 3
   },
   "file_extension": ".py",
   "mimetype": "text/x-python",
   "name": "python",
   "nbconvert_exporter": "python",
   "pygments_lexer": "ipython3",
   "version": "3.12.0"
  }
 },
 "nbformat": 4,
 "nbformat_minor": 2
}
